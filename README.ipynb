{
 "cells": [
  {
   "cell_type": "markdown",
   "source": [
    "# Welcome to the DataWeave Jupyter Notebook\n",
    "\n",
    "## How to use it\n",
    "\n",
    "Enter any DataWeave script and the result will be shown.\n",
    "\n",
    "## Storing Variables\n",
    "Use the `%var <variable name>` magic in order to store a value.\n",
    "\n",
    "### Example:"
   ],
   "metadata": {}
  },
  {
   "cell_type": "code",
   "execution_count": 2,
   "source": [
    "%var payload\n",
    "[1,2,3,4,5]"
   ],
   "outputs": [
    {
     "output_type": "execute_result",
     "data": {
      "text/plain": [
       "[\n",
       "  1, \n",
       "  2, \n",
       "  3, \n",
       "  4, \n",
       "  5\n",
       "]"
      ],
      "application/dw": "[\n  1, \n  2, \n  3, \n  4, \n  5\n]"
     },
     "metadata": {},
     "execution_count": 2
    }
   ],
   "metadata": {}
  },
  {
   "cell_type": "markdown",
   "source": [
    "and that value van be reused later calling the `payload` value:"
   ],
   "metadata": {}
  },
  {
   "cell_type": "code",
   "execution_count": 3,
   "source": [
    "payload"
   ],
   "outputs": [
    {
     "output_type": "execute_result",
     "data": {
      "text/plain": [
       "[\n",
       "  1, \n",
       "  2, \n",
       "  3, \n",
       "  4, \n",
       "  5\n",
       "]"
      ],
      "application/dw": "[\n  1, \n  2, \n  3, \n  4, \n  5\n]"
     },
     "metadata": {},
     "execution_count": 3
    }
   ],
   "metadata": {}
  },
  {
   "cell_type": "markdown",
   "source": [
    "## Adding static imputs\n",
    "In order to add inputs to the execution context use the `%%input <input name> <content type>` magic cell. Example:"
   ],
   "metadata": {}
  },
  {
   "cell_type": "code",
   "execution_count": 1,
   "source": [
    "%%input users application/json\n",
    "[{ \"name\" : \"Ana\"} , { \"name\" : \"Mariano\"}]"
   ],
   "outputs": [
    {
     "output_type": "stream",
     "name": "stderr",
     "text": [
      "SLF4J: Failed to load class \"org.slf4j.impl.StaticLoggerBinder\".\n",
      "SLF4J: Defaulting to no-operation (NOP) logger implementation\n",
      "SLF4J: See http://www.slf4j.org/codes.html#StaticLoggerBinder for further details.\n"
     ]
    },
    {
     "output_type": "execute_result",
     "data": {},
     "metadata": {},
     "execution_count": 1
    }
   ],
   "metadata": {}
  },
  {
   "cell_type": "markdown",
   "source": [
    "And use it later:"
   ],
   "metadata": {}
  },
  {
   "cell_type": "code",
   "execution_count": 2,
   "source": [
    "users"
   ],
   "outputs": [
    {
     "output_type": "execute_result",
     "data": {
      "application/dw": "[\n  {\n    name: \"Ana\"\n  }, \n  {\n    name: \"Mariano\"\n  }\n]",
      "text/plain": [
       "[\n",
       "  {\n",
       "    name: \"Ana\"\n",
       "  }, \n",
       "  {\n",
       "    name: \"Mariano\"\n",
       "  }\n",
       "]"
      ]
     },
     "metadata": {},
     "execution_count": 2
    }
   ],
   "metadata": {}
  },
  {
   "cell_type": "markdown",
   "source": [
    "## Render to Markdown\n",
    "When working with List of Objects you can use the `%mrkdwn` magic line in order to render tables to Markdown. Example:"
   ],
   "metadata": {}
  },
  {
   "cell_type": "code",
   "execution_count": 3,
   "source": [
    "%mrkdwn\n",
    "users"
   ],
   "outputs": [
    {
     "output_type": "execute_result",
     "data": {
      "text/plain": [
       "|name|\n",
       "|--|\n",
       "|Ana|\n",
       "|Mariano|"
      ],
      "text/markdown": [
       "|name|\n",
       "|--|\n",
       "|Ana|\n",
       "|Mariano|"
      ]
     },
     "metadata": {},
     "execution_count": 3
    }
   ],
   "metadata": {}
  }
 ],
 "metadata": {
  "orig_nbformat": 4,
  "language_info": {
   "name": "DataWeave",
   "version": "2.4",
   "mimetype": "application/dw",
   "file_extension": "dw",
   "pygments_lexer": "dataweave",
   "codemirror_mode": "dataweave",
   "nbconvert_exporter": "dataweave"
  },
  "kernelspec": {
   "name": "python392jvsc74a57bd0aee8b7b246df8f9039afb4144a1f6fd8d2ca17a180786b69acc140d282b71a49",
   "display_name": "DataWeave",
   "language": "dw"
  },
  "interpreter": {
   "hash": "aee8b7b246df8f9039afb4144a1f6fd8d2ca17a180786b69acc140d282b71a49"
  }
 },
 "nbformat": 4,
 "nbformat_minor": 2
}